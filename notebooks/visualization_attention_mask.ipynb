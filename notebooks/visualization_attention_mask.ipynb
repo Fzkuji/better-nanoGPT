{
 "cells": [
  {
   "cell_type": "code",
   "id": "d53bba7d-5e05-4748-b1a7-d5b7cc77fe73",
   "metadata": {
    "ExecuteTime": {
     "end_time": "2025-01-10T03:56:21.669192Z",
     "start_time": "2025-01-10T03:56:19.254917Z"
    }
   },
   "source": [
    "import torch\n",
    "import matplotlib.pyplot as plt\n",
    "from transformers import AutoModelForCausalLM, AutoTokenizer\n",
    "from datasets import load_dataset\n",
    "\n",
    "# 加载模型和 tokenizer\n",
    "def load_model_and_tokenizer(model_name, device=\"cuda\"):\n",
    "    print(f\"Loading model: {model_name}\")\n",
    "    tokenizer = AutoTokenizer.from_pretrained(model_name, use_fast=False)\n",
    "    model = AutoModelForCausalLM.from_pretrained(\n",
    "        model_name,\n",
    "        # torch_dtype=torch.float16,\n",
    "        device_map=\"auto\",\n",
    "        # attn_implementation=\"eager\",\n",
    "    )\n",
    "    return model, tokenizer"
   ],
   "outputs": [],
   "execution_count": 1
  },
  {
   "cell_type": "code",
   "id": "ea3b9a7d-5f53-4311-b365-e5d72f7a843e",
   "metadata": {
    "ExecuteTime": {
     "end_time": "2025-01-10T03:57:19.314079Z",
     "start_time": "2025-01-10T03:57:16.787403Z"
    }
   },
   "source": [
    "# model_name = \"mistralai/Mistral-7B-Instruct-v0.1\"\n",
    "model_name = \"Qwen/Qwen2-0.5B-Instruct\"\n",
    "device = \"cuda\" if torch.cuda.is_available() else \"mps\"\n",
    "\n",
    "# 加载模型和 tokenizer\n",
    "model, tokenizer = load_model_and_tokenizer(model_name, device)\n",
    "\n",
    "model.config.sliding_window = 1024"
   ],
   "outputs": [
    {
     "name": "stdout",
     "output_type": "stream",
     "text": [
      "Loading model: Qwen/Qwen2-0.5B-Instruct\n"
     ]
    }
   ],
   "execution_count": 5
  },
  {
   "metadata": {
    "ExecuteTime": {
     "end_time": "2025-01-10T12:23:06.112866Z",
     "start_time": "2025-01-10T12:23:00.369374Z"
    }
   },
   "cell_type": "code",
   "source": [
    "# 加载和分词输入\n",
    "dataset = load_dataset(\"emozilla/pg19\", split=\"test\", trust_remote_code=True)\n",
    "text = dataset[0][\"text\"]  # 仅取前 16384 个字符\n",
    "input_ids = tokenizer(text, return_tensors=\"pt\", max_length=129, truncation=True).input_ids"
   ],
   "id": "a382e23bb4ab51f8",
   "outputs": [
    {
     "data": {
      "text/plain": [
       "Resolving data files:   0%|          | 0/23 [00:00<?, ?it/s]"
      ],
      "application/vnd.jupyter.widget-view+json": {
       "version_major": 2,
       "version_minor": 0,
       "model_id": "6b8367f850f343dc86db19d7fe5c7f54"
      }
     },
     "metadata": {},
     "output_type": "display_data"
    }
   ],
   "execution_count": 71
  },
  {
   "metadata": {
    "ExecuteTime": {
     "end_time": "2025-01-10T12:23:12.818359Z",
     "start_time": "2025-01-10T12:23:12.815975Z"
    }
   },
   "cell_type": "code",
   "source": "input_ids = input_ids[:, 1:]",
   "id": "33828970f698a720",
   "outputs": [],
   "execution_count": 73
  },
  {
   "metadata": {
    "ExecuteTime": {
     "end_time": "2025-01-10T12:23:14.937610Z",
     "start_time": "2025-01-10T12:23:14.934927Z"
    }
   },
   "cell_type": "code",
   "source": "print(input_ids)",
   "id": "4f3a70a0b39e8218",
   "outputs": [
    {
     "name": "stdout",
     "output_type": "stream",
     "text": [
      "tensor([[   13, 12878,  1094, 12210,  1406,    36,  9345, 10030,   553, 15115,\n",
      "           482, 15681,   337, 52369,   323,   279,  5787, 51586,  8105,   198,\n",
      "            35, 25146, 36991,  6154,  7909,  1022,   787, 16413, 27629, 42653,\n",
      "          3008,   393,  1271,    36,   640, 82831,  1964,  3928,    13, 12878,\n",
      "          1094,   271,    32, 11101,   315, 28361, 33891,   369,   323, 29014,\n",
      "           304,   279, 13385,   198,    47, 55398,  8445,   382,  1359, 16654,\n",
      "         16012, 11418,  5881, 34583, 20594,  4592, 57567, 12152,  2941,    38,\n",
      "         14017,  3008,   393,  1271,    36,   640, 82831,   382,    32,   425,\n",
      "          4305, 14884,   451,  3915,  3495,  3008, 28167,    50,  3567, 58619,\n",
      "         63022,  1479,  4769,  3168, 90296,  8932,   198,    35, 22063,  3008,\n",
      "          3928,    13, 12878,  1094,    11,   422, 73049, 16165,  4592,  2537,\n",
      "          4321,  4192,  2679,  7801,   386,    13,  7684, 92923,  1410, 64778,\n",
      "           279,  9393,   323,  1281,   264,  7216,  4221,   279]])\n"
     ]
    }
   ],
   "execution_count": 74
  },
  {
   "metadata": {
    "ExecuteTime": {
     "end_time": "2025-01-10T12:23:21.680435Z",
     "start_time": "2025-01-10T12:23:21.164112Z"
    }
   },
   "cell_type": "code",
   "source": [
    "# 提取注意力分数\n",
    "# 模型前向\n",
    "with torch.no_grad():\n",
    "    output = model(input_ids.to(device), output_attentions=True, output_hidden_states=True)"
   ],
   "id": "5b4d9d20-018d-43a1-8032-9d3204fee40b",
   "outputs": [],
   "execution_count": 75
  },
  {
   "cell_type": "code",
   "id": "0c7f09c3-b916-4a61-bfde-013bde2b9b06",
   "metadata": {
    "ExecuteTime": {
     "end_time": "2025-01-10T03:57:35.012541Z",
     "start_time": "2025-01-10T03:57:35.009998Z"
    }
   },
   "source": [
    "print(output.keys())"
   ],
   "outputs": [
    {
     "name": "stdout",
     "output_type": "stream",
     "text": [
      "odict_keys(['logits', 'past_key_values', 'attentions'])\n"
     ]
    }
   ],
   "execution_count": 7
  },
  {
   "cell_type": "code",
   "id": "83a907f4-2f18-4a23-9da8-0537a3c22d7f",
   "metadata": {
    "ExecuteTime": {
     "end_time": "2025-01-10T03:57:36.791721Z",
     "start_time": "2025-01-10T03:57:36.789881Z"
    }
   },
   "source": [
    "print(len(output[\"attentions\"]))"
   ],
   "outputs": [
    {
     "name": "stdout",
     "output_type": "stream",
     "text": [
      "24\n"
     ]
    }
   ],
   "execution_count": 8
  },
  {
   "cell_type": "code",
   "id": "83508ce8-811d-44b7-97cd-a2a10b6d4084",
   "metadata": {
    "ExecuteTime": {
     "end_time": "2025-01-10T05:13:12.061529Z",
     "start_time": "2025-01-10T05:13:12.058331Z"
    }
   },
   "source": "output[\"attentions\"][0].shape",
   "outputs": [
    {
     "data": {
      "text/plain": [
       "torch.Size([1, 14, 128, 128])"
      ]
     },
     "execution_count": 51,
     "metadata": {},
     "output_type": "execute_result"
    }
   ],
   "execution_count": 51
  },
  {
   "cell_type": "code",
   "id": "8beda058-e53a-40f4-89e2-789bf724ead3",
   "metadata": {
    "ExecuteTime": {
     "end_time": "2025-01-10T12:23:25.537991Z",
     "start_time": "2025-01-10T12:23:25.531971Z"
    }
   },
   "source": [
    "def visualize_attention_scores(\n",
    "    attention_scores,\n",
    "    layer_idx,\n",
    "    head_idx,\n",
    "    seq_len,\n",
    "    output_file=None,\n",
    "    norm_type=\"log\",  # 标准化类型：可选 \"log\" 或 \"minmax\"\n",
    "    cmap=\"plasma\",    # 颜色映射：默认使用更高对比度的 plasma\n",
    "    annotate=False    # 是否显示矩阵上的数值\n",
    "):\n",
    "    \"\"\"\n",
    "    可视化 Transformer 注意力分数矩阵。\n",
    "    \"\"\"\n",
    "    plt.figure(figsize=(10, 8))\n",
    "    attention_matrix = attention_scores[layer_idx][0, head_idx, :seq_len, :seq_len].cpu()\n",
    "\n",
    "    # 标准化注意力分数\n",
    "    if norm_type == \"log\":\n",
    "        epsilon = 1e-9\n",
    "        attention_matrix = torch.log(attention_matrix + epsilon).numpy()\n",
    "    elif norm_type == \"minmax\":\n",
    "        attention_matrix = attention_matrix.numpy()\n",
    "        attention_matrix = (attention_matrix - attention_matrix.min()) / (\n",
    "            attention_matrix.max() - attention_matrix.min() + 1e-9\n",
    "        )\n",
    "\n",
    "    # 绘制矩阵\n",
    "    im = plt.imshow(attention_matrix, cmap=cmap, aspect=\"auto\")\n",
    "    plt.colorbar(im, label=\"Normalized Attention Score\")\n",
    "    plt.title(f\"Attention Layer {layer_idx + 1}, Head {head_idx + 1}\")\n",
    "    plt.xlabel(\"Key Position\")\n",
    "    plt.ylabel(\"Query Position\")\n",
    "\n",
    "    # 可选：添加数值标注\n",
    "    if annotate:\n",
    "        for i in range(seq_len):\n",
    "            for j in range(seq_len):\n",
    "                plt.text(j, i, f\"{attention_matrix[i, j]:.2f}\", ha=\"center\", va=\"center\", fontsize=6)\n",
    "\n",
    "    # 保存图像或显示\n",
    "    if output_file:\n",
    "        plt.savefig(output_file, dpi=300)\n",
    "    plt.show()\n",
    "\n",
    "\n",
    "# # 可视化某一层的注意力分数\n",
    "# def visualize_attention_scores(attention_scores, layer_idx, head_idx, seq_len, output_file=None):\n",
    "#     plt.figure(figsize=(10, 8))\n",
    "#     attention_matrix = attention_scores[layer_idx][0, head_idx, :seq_len, :seq_len].cpu()\n",
    "#     plt.imshow(attention_matrix, cmap=\"viridis\", aspect=\"auto\")\n",
    "#     plt.colorbar(label=\"Attention Score\")\n",
    "#     plt.title(f\"Attention Layer {layer_idx + 1}, Head {head_idx + 1}\")\n",
    "#     plt.xlabel(\"Key Position\")\n",
    "#     plt.ylabel(\"Query Position\")\n",
    "#     if output_file:\n",
    "#         plt.savefig(output_file)\n",
    "#     plt.show()\n"
   ],
   "outputs": [],
   "execution_count": 76
  },
  {
   "cell_type": "code",
   "id": "b9ebb3c3-900a-4a36-9f7f-19a9cb834b74",
   "metadata": {
    "ExecuteTime": {
     "end_time": "2025-01-10T12:23:28.207568Z",
     "start_time": "2025-01-10T12:23:27.704080Z"
    }
   },
   "source": [
    "\n",
    "attention_scores = output[\"attentions\"]\n",
    "\n",
    "# 保存或可视化\n",
    "layer_idx = 14  # 可视化第几层\n",
    "head_idx = 2   # 可视化第几个注意力头\n",
    "seq_len = 8192  # 只显示前 1024 长度的分数（避免图太大）\n",
    "visualize_attention_scores(attention_scores, layer_idx, head_idx, seq_len, output_file=\"attention_layer_1_head_1.png\")\n",
    "\n",
    "# # 保存完整注意力分数到文件\n",
    "# torch.save(attention_scores, \"attention_scores.pt\")\n",
    "# print(\"Attention scores saved to 'attention_scores.pt'\")"
   ],
   "outputs": [
    {
     "data": {
      "text/plain": [
       "<Figure size 1000x800 with 2 Axes>"
      ],
      "image/png": "[encoded data removed]"
     },
     "metadata": {},
     "output_type": "display_data"
    }
   ],
   "execution_count": 77
  },
  {
   "cell_type": "code",
   "execution_count": 19,
   "id": "e29cf3b0-59af-4328-84b7-622c6c9a3a82",
   "metadata": {},
   "outputs": [
    {
     "name": "stdout",
     "output_type": "stream",
     "text": [
      "torch.Size([1, 32, 2110, 2110])\n"
     ]
    }
   ],
   "source": [
    "print(output[\"attentions\"][0].shape)"
   ]
  },
  {
   "cell_type": "code",
   "id": "b4fa6f7b-0365-459e-9c69-357b02d5e9be",
   "metadata": {
    "ExecuteTime": {
     "end_time": "2025-01-10T05:18:47.693410Z",
     "start_time": "2025-01-10T05:18:47.306202Z"
    }
   },
   "source": [
    "# 计算hidden_states特定token的方差\n",
    "\n",
    "layer_idx = 14  # 可视化第几层\n",
    "head_idx = 2   # 可视化第几个注意力头\n",
    "\n",
    "# 提取特定 token 的隐藏状态\n",
    "hidden_states = output[\"hidden_states\"][layer_idx]\n",
    "\n",
    "# 计算每个token各自的方差 保存为一个list\n",
    "for i in range(hidden_states.shape[1]):\n",
    "    variance = torch.var(hidden_states[:, i, :])\n",
    "    print(variance)"
   ],
   "outputs": [
    {
     "name": "stdout",
     "output_type": "stream",
     "text": [
      "tensor(1996.0865, device='mps:0')\n",
      "tensor(0.3426, device='mps:0')\n",
      "tensor(0.3417, device='mps:0')\n",
      "tensor(0.4636, device='mps:0')\n",
      "tensor(0.3606, device='mps:0')\n",
      "tensor(0.3096, device='mps:0')\n",
      "tensor(0.2825, device='mps:0')\n",
      "tensor(0.4539, device='mps:0')\n",
      "tensor(0.4328, device='mps:0')\n",
      "tensor(0.3813, device='mps:0')\n",
      "tensor(0.3680, device='mps:0')\n",
      "tensor(0.3908, device='mps:0')\n",
      "tensor(0.3371, device='mps:0')\n",
      "tensor(0.3516, device='mps:0')\n",
      "tensor(0.4447, device='mps:0')\n",
      "tensor(0.3232, device='mps:0')\n",
      "tensor(0.3575, device='mps:0')\n",
      "tensor(0.4055, device='mps:0')\n",
      "tensor(0.5079, device='mps:0')\n",
      "tensor(0.3903, device='mps:0')\n",
      "tensor(0.3173, device='mps:0')\n",
      "tensor(0.2741, device='mps:0')\n",
      "tensor(0.3896, device='mps:0')\n",
      "tensor(0.3542, device='mps:0')\n",
      "tensor(0.4063, device='mps:0')\n",
      "tensor(0.4302, device='mps:0')\n",
      "tensor(0.3172, device='mps:0')\n",
      "tensor(0.3094, device='mps:0')\n",
      "tensor(0.3483, device='mps:0')\n",
      "tensor(0.4229, device='mps:0')\n",
      "tensor(0.4767, device='mps:0')\n",
      "tensor(0.4106, device='mps:0')\n",
      "tensor(0.3180, device='mps:0')\n",
      "tensor(0.4304, device='mps:0')\n",
      "tensor(0.4454, device='mps:0')\n",
      "tensor(0.4474, device='mps:0')\n",
      "tensor(0.4762, device='mps:0')\n",
      "tensor(0.3468, device='mps:0')\n",
      "tensor(0.3886, device='mps:0')\n",
      "tensor(0.4044, device='mps:0')\n",
      "tensor(0.4401, device='mps:0')\n",
      "tensor(0.5041, device='mps:0')\n",
      "tensor(0.3265, device='mps:0')\n",
      "tensor(0.3231, device='mps:0')\n",
      "tensor(0.4573, device='mps:0')\n",
      "tensor(0.3677, device='mps:0')\n",
      "tensor(0.4706, device='mps:0')\n",
      "tensor(0.4454, device='mps:0')\n",
      "tensor(0.3670, device='mps:0')\n",
      "tensor(0.4916, device='mps:0')\n",
      "tensor(0.3922, device='mps:0')\n",
      "tensor(0.3407, device='mps:0')\n",
      "tensor(0.3280, device='mps:0')\n",
      "tensor(0.4464, device='mps:0')\n",
      "tensor(0.2920, device='mps:0')\n",
      "tensor(0.3520, device='mps:0')\n",
      "tensor(0.5805, device='mps:0')\n",
      "tensor(0.4434, device='mps:0')\n",
      "tensor(0.3018, device='mps:0')\n",
      "tensor(0.3609, device='mps:0')\n",
      "tensor(0.3345, device='mps:0')\n",
      "tensor(0.3824, device='mps:0')\n",
      "tensor(0.3082, device='mps:0')\n",
      "tensor(0.4367, device='mps:0')\n",
      "tensor(0.3517, device='mps:0')\n",
      "tensor(0.3350, device='mps:0')\n",
      "tensor(0.3860, device='mps:0')\n",
      "tensor(0.4654, device='mps:0')\n",
      "tensor(0.3506, device='mps:0')\n",
      "tensor(0.4724, device='mps:0')\n",
      "tensor(0.4473, device='mps:0')\n",
      "tensor(0.4789, device='mps:0')\n",
      "tensor(0.3674, device='mps:0')\n",
      "tensor(0.3480, device='mps:0')\n",
      "tensor(0.4589, device='mps:0')\n",
      "tensor(0.4856, device='mps:0')\n",
      "tensor(0.4647, device='mps:0')\n",
      "tensor(0.4395, device='mps:0')\n",
      "tensor(0.3108, device='mps:0')\n",
      "tensor(0.3418, device='mps:0')\n",
      "tensor(0.3170, device='mps:0')\n",
      "tensor(0.3572, device='mps:0')\n",
      "tensor(0.4922, device='mps:0')\n",
      "tensor(0.2868, device='mps:0')\n",
      "tensor(0.3830, device='mps:0')\n",
      "tensor(0.4455, device='mps:0')\n",
      "tensor(0.3519, device='mps:0')\n",
      "tensor(0.4297, device='mps:0')\n",
      "tensor(0.4324, device='mps:0')\n",
      "tensor(0.3110, device='mps:0')\n",
      "tensor(0.4513, device='mps:0')\n",
      "tensor(0.3828, device='mps:0')\n",
      "tensor(0.4260, device='mps:0')\n",
      "tensor(0.3157, device='mps:0')\n",
      "tensor(0.2978, device='mps:0')\n",
      "tensor(0.3366, device='mps:0')\n",
      "tensor(0.4125, device='mps:0')\n",
      "tensor(0.2604, device='mps:0')\n",
      "tensor(0.3131, device='mps:0')\n",
      "tensor(0.4494, device='mps:0')\n",
      "tensor(0.3222, device='mps:0')\n",
      "tensor(0.4255, device='mps:0')\n",
      "tensor(0.4147, device='mps:0')\n",
      "tensor(0.4665, device='mps:0')\n",
      "tensor(0.4727, device='mps:0')\n",
      "tensor(0.3216, device='mps:0')\n",
      "tensor(0.2793, device='mps:0')\n",
      "tensor(0.4089, device='mps:0')\n",
      "tensor(0.3923, device='mps:0')\n",
      "tensor(0.4569, device='mps:0')\n",
      "tensor(0.4080, device='mps:0')\n",
      "tensor(0.4476, device='mps:0')\n",
      "tensor(0.2803, device='mps:0')\n",
      "tensor(0.3478, device='mps:0')\n",
      "tensor(0.3708, device='mps:0')\n",
      "tensor(0.3327, device='mps:0')\n",
      "tensor(0.3269, device='mps:0')\n",
      "tensor(0.3362, device='mps:0')\n",
      "tensor(0.4657, device='mps:0')\n",
      "tensor(0.4301, device='mps:0')\n",
      "tensor(0.4843, device='mps:0')\n",
      "tensor(0.3278, device='mps:0')\n",
      "tensor(0.4619, device='mps:0')\n",
      "tensor(0.3907, device='mps:0')\n",
      "tensor(0.3450, device='mps:0')\n",
      "tensor(0.3485, device='mps:0')\n",
      "tensor(0.4628, device='mps:0')\n",
      "tensor(0.3824, device='mps:0')\n"
     ]
    }
   ],
   "execution_count": 66
  },
  {
   "metadata": {
    "ExecuteTime": {
     "end_time": "2025-01-10T05:12:12.439405Z",
     "start_time": "2025-01-10T05:12:12.436919Z"
    }
   },
   "cell_type": "code",
   "source": "print(output[\"hidden_states\"][layer_idx][0, :, (head_idx-1)*:head_idx].shape)",
   "id": "a1d5bdfc3cc5f72e",
   "outputs": [
    {
     "name": "stdout",
     "output_type": "stream",
     "text": [
      "torch.Size([128, 896])\n"
     ]
    }
   ],
   "execution_count": 50
  },
  {
   "metadata": {},
   "cell_type": "code",
   "outputs": [],
   "execution_count": null,
   "source": "",
   "id": "300ce9020ba6bab2"
  }
 ],
 "metadata": {
  "kernelspec": {
   "display_name": "Python 3 (ipykernel)",
   "language": "python",
   "name": "python3"
  },
  "language_info": {
   "codemirror_mode": {
    "name": "ipython",
    "version": 3
   },
   "file_extension": ".py",
   "mimetype": "text/x-python",
   "name": "python",
   "nbconvert_exporter": "python",
   "pygments_lexer": "ipython3",
   "version": "3.12.3"
  }
 },
 "nbformat": 4,
 "nbformat_minor": 5
}
